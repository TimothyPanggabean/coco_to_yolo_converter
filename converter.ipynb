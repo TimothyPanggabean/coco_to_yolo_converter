{
  "nbformat": 4,
  "nbformat_minor": 0,
  "metadata": {
    "colab": {
      "provenance": []
    },
    "kernelspec": {
      "name": "python3",
      "display_name": "Python 3"
    },
    "language_info": {
      "name": "python"
    }
  },
  "cells": [
    {
      "cell_type": "code",
      "execution_count": null,
      "metadata": {
        "id": "9DlDJ6_BCVVE"
      },
      "outputs": [],
      "source": [
        "# File locations are hard coded. Please upload the dataset manually to the runtime before executing."
      ]
    },
    {
      "cell_type": "code",
      "source": [
        "# Import libraries\n",
        "import os\n",
        "import json\n",
        "import glob\n",
        "import shutil"
      ],
      "metadata": {
        "id": "s1E54BxNCeD0"
      },
      "execution_count": null,
      "outputs": []
    },
    {
      "cell_type": "code",
      "source": [
        "# Define directories\n",
        "COCO_TEST_DIR = \"Fabric Inspections.v1i.coco/test/\"\n",
        "COCO_TRAIN_DIR = \"Fabric Inspections.v1i.coco/train/\"\n",
        "COCO_VAL_DIR = \"Fabric Inspections.v1i.coco/valid/\"\n",
        "\n",
        "YOLO_TEST_LABEL_DIR = 'dataset/test/labels/'\n",
        "YOLO_TRAIN_LABEL_DIR = 'dataset/train/labels/'\n",
        "YOLO_VAL_LABEL_DIR = 'dataset/valid/labels/'\n",
        "\n",
        "YOLO_TEST_IMAGE_DIR = 'dataset/test/images'\n",
        "YOLO_TRAIN_IMAGE_DIR = 'dataset/train/images'\n",
        "YOLO_VAL_IMAGE_DIR = 'dataset/valid/images'"
      ],
      "metadata": {
        "id": "EXMmE06YCeGp"
      },
      "execution_count": null,
      "outputs": []
    },
    {
      "cell_type": "code",
      "source": [
        "# Write to .txt where annotations \"image_id\" is equal to image \"id\"\n",
        "def create_labels(coco_dir, yolo_dir):\n",
        "    with open(coco_dir + \"_annotations.coco.json\", \"r\") as file:\n",
        "        data = json.load(file)\n",
        "\n",
        "    for num_img, i in enumerate(data['images']):\n",
        "        for num_ano, j in enumerate(data['annotations']):\n",
        "            if data['annotations'][num_ano]['image_id'] == data['images'][num_img]['id']:\n",
        "                write_to_txt(num_img, num_ano, yolo_dir, data)"
      ],
      "metadata": {
        "id": "IqvVOMTJCeJP"
      },
      "execution_count": null,
      "outputs": []
    },
    {
      "cell_type": "code",
      "source": [
        "# Get data from json and convert coco measurments to yolo using a formula\n",
        "def write_to_txt(num_img, num_ano, yolo_dir, data):\n",
        "    file = open(yolo_dir + data['images'][num_img]['file_name'] + '.txt', 'a+')\n",
        "\n",
        "    category = data['annotations'][num_ano]['category_id'] - 1 # Yolo classes starts at 0 (coco starts from 1)\n",
        "    bbox = data['annotations'][num_ano]['bbox']\n",
        "    x_center = bbox[0]\n",
        "    y_center = bbox[1]\n",
        "    width = bbox[2]\n",
        "    height = bbox[3]\n",
        "\n",
        "    img_width = data['images'][num_img]['width']\n",
        "    img_height = data['images'][num_img]['height']\n",
        "\n",
        "    x_center = x_center / img_width\n",
        "    y_center = y_center / img_height\n",
        "    width = width / img_width\n",
        "    height = height / img_height\n",
        "\n",
        "    x_center = format(x_center, '.6f')\n",
        "    y_center = format(y_center, '.6f')\n",
        "    width = format(width, '.6f')\n",
        "    height = format(height, '.6f')\n",
        "\n",
        "    file.write(f\"{category} {x_center} {y_center} {width} {height}\\n\")\n",
        "    file.close()"
      ],
      "metadata": {
        "id": "1h5I4LllCeLk"
      },
      "execution_count": null,
      "outputs": []
    },
    {
      "cell_type": "code",
      "source": [
        "# Copy images to the yolo directory\n",
        "def copy_images(source, destination):\n",
        "    for jpgfile in glob.iglob(os.path.join(source, \"*.jpg\")):\n",
        "        shutil.copy(jpgfile, destination)"
      ],
      "metadata": {
        "id": "VqnLoB-kCeOC"
      },
      "execution_count": null,
      "outputs": []
    },
    {
      "cell_type": "code",
      "source": [
        "# Create yolo directories\n",
        "yolo_dirs = [YOLO_TEST_IMAGE_DIR, YOLO_TRAIN_IMAGE_DIR, YOLO_VAL_IMAGE_DIR,\n",
        "             YOLO_TEST_LABEL_DIR, YOLO_TRAIN_LABEL_DIR, YOLO_VAL_LABEL_DIR]\n",
        "for directory in yolo_dirs:\n",
        "    if not os.path.exists(directory):\n",
        "        os.makedirs(directory)"
      ],
      "metadata": {
        "id": "ZBRYtAINCeQf"
      },
      "execution_count": null,
      "outputs": []
    },
    {
      "cell_type": "code",
      "source": [
        "# Start dataset creation\n",
        "create_labels(COCO_TEST_DIR, YOLO_TEST_LABEL_DIR)\n",
        "create_labels(COCO_TRAIN_DIR, YOLO_TRAIN_LABEL_DIR)\n",
        "create_labels(COCO_VAL_DIR, YOLO_VAL_LABEL_DIR)\n",
        "\n",
        "copy_images(COCO_TEST_DIR, YOLO_TEST_IMAGE_DIR)\n",
        "copy_images(COCO_TRAIN_DIR, YOLO_TRAIN_IMAGE_DIR)\n",
        "copy_images(COCO_VAL_DIR, YOLO_VAL_IMAGE_DIR)"
      ],
      "metadata": {
        "id": "CD0_2mLuCeS4"
      },
      "execution_count": null,
      "outputs": []
    }
  ]
}